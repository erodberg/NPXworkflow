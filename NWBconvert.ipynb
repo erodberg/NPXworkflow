{
 "cells": [
  {
   "cell_type": "code",
   "execution_count": null,
   "metadata": {},
   "outputs": [],
   "source": [
    "## Extract forted unit information and put into neurodata without borders format (NWB)\n"
   ]
  },
  {
   "cell_type": "code",
   "execution_count": 1,
   "metadata": {},
   "outputs": [],
   "source": [
    "from neuroconv.datainterfaces import PhySortingInterface\n",
    "from neuroconv.utils.dict import load_dict_from_file, dict_deep_update\n",
    "from phylib.io.model import load_model\n",
    "import numpy as np\n",
    "from neuroconv import NWBConverter\n",
    "from pathlib import Path\n",
    "from datetime import datetime,timezone\n",
    "from zoneinfo import ZoneInfo\n"
   ]
  },
  {
   "cell_type": "code",
   "execution_count": 2,
   "metadata": {},
   "outputs": [],
   "source": [
    "#set up  - cahnge the paths below to point at your datafiles \n",
    "\n",
    "# phyfolder - directs to folder of the phy output\n",
    "phyFolder =f\"C:\\\\Users\\\\Ellen\\\\OneDrive - University of Massachusetts\\\\20220622_PersonalComp\\\\NPX\\\\EMR23009\\\\2023-03-23_12-44-24\\\\Record Node 105\\\\experiment2\\\\recording1\\\\continuous\\\\Neuropix-PXI-100.ProbeA-AP\\\\\"\n",
    "\n",
    "# change filename to be what you want the NWB file to be saved as - I recomend the ID_date \n",
    "filename = 'PRACTICE'\n",
    "\n",
    "#outPath = path where you want file to be saved, DO NOT CHANGE \"{filename}.nwb\"\n",
    "outPath = f\"C:\\\\Users\\\\Ellen\\\\OneDrive - University of Massachusetts\\\\20220622_PersonalComp\\\\NPX\\\\NWBFiles\\\\{filename}.nwb\"\n",
    "\n",
    "# location of YEML file - make sure to make a YAML file for each recording - this includes all the basic inforamtion of a recording like ID, task, animal age, etc.\n",
    "yaml=f\"C:\\\\Users\\\\Ellen\\\\OneDrive - University of Massachusetts\\\\20220622_PersonalComp\\\\NPX\\\\EMR23009\\\\2023-03-23_12-44-24\\\\Record Node 105\\\\experiment2\\\\recording1\\\\continuous\\\\Neuropix-PXI-100.ProbeA-AP\\\\emr23009.yaml\"\n",
    "\n"
   ]
  },
  {
   "cell_type": "code",
   "execution_count": 3,
   "metadata": {},
   "outputs": [
    {
     "name": "stdout",
     "output_type": "stream",
     "text": [
      "Source data is valid!\n"
     ]
    },
    {
     "ename": "ValidationError",
     "evalue": "1 validation error for __init__\nfolder_path\n  Path does not point to a directory [type=path_not_directory, input_value='C:\\\\Users\\\\Ellen\\\\OneDri...pix-PXI-100.ProbeA-AP\\\\', input_type=str]",
     "output_type": "error",
     "traceback": [
      "\u001b[1;31m---------------------------------------------------------------------------\u001b[0m",
      "\u001b[1;31mValidationError\u001b[0m                           Traceback (most recent call last)",
      "Cell \u001b[1;32mIn[3], line 11\u001b[0m\n\u001b[0;32m      2\u001b[0m     data_interface_classes \u001b[38;5;241m=\u001b[39m \u001b[38;5;28mdict\u001b[39m(\n\u001b[0;32m      3\u001b[0m         PhySorting\u001b[38;5;241m=\u001b[39mPhySortingInterface\n\u001b[0;32m      4\u001b[0m     )\n\u001b[0;32m      5\u001b[0m source_data \u001b[38;5;241m=\u001b[39m \u001b[38;5;28mdict\u001b[39m(\n\u001b[0;32m      6\u001b[0m     PhySorting\u001b[38;5;241m=\u001b[39m\u001b[38;5;28mdict\u001b[39m(\n\u001b[0;32m      7\u001b[0m         folder_path\u001b[38;5;241m=\u001b[39mphyFolder\n\u001b[0;32m      8\u001b[0m     ),  \n\u001b[0;32m      9\u001b[0m )\n\u001b[1;32m---> 11\u001b[0m converter \u001b[38;5;241m=\u001b[39m \u001b[43mNWBConverter\u001b[49m\u001b[43m(\u001b[49m\u001b[43msource_data\u001b[49m\u001b[43m)\u001b[49m\n",
      "File \u001b[1;32mc:\\Users\\Ellen\\anaconda3\\envs\\NWB\\Lib\\site-packages\\pydantic\\validate_call_decorator.py:60\u001b[0m, in \u001b[0;36mvalidate_call.<locals>.validate.<locals>.wrapper_function\u001b[1;34m(*args, **kwargs)\u001b[0m\n\u001b[0;32m     58\u001b[0m \u001b[38;5;129m@functools\u001b[39m\u001b[38;5;241m.\u001b[39mwraps(function)\n\u001b[0;32m     59\u001b[0m \u001b[38;5;28;01mdef\u001b[39;00m \u001b[38;5;21mwrapper_function\u001b[39m(\u001b[38;5;241m*\u001b[39margs, \u001b[38;5;241m*\u001b[39m\u001b[38;5;241m*\u001b[39mkwargs):\n\u001b[1;32m---> 60\u001b[0m     \u001b[38;5;28;01mreturn\u001b[39;00m \u001b[43mvalidate_call_wrapper\u001b[49m\u001b[43m(\u001b[49m\u001b[38;5;241;43m*\u001b[39;49m\u001b[43margs\u001b[49m\u001b[43m,\u001b[49m\u001b[43m \u001b[49m\u001b[38;5;241;43m*\u001b[39;49m\u001b[38;5;241;43m*\u001b[39;49m\u001b[43mkwargs\u001b[49m\u001b[43m)\u001b[49m\n",
      "File \u001b[1;32mc:\\Users\\Ellen\\anaconda3\\envs\\NWB\\Lib\\site-packages\\pydantic\\_internal\\_validate_call.py:96\u001b[0m, in \u001b[0;36mValidateCallWrapper.__call__\u001b[1;34m(self, *args, **kwargs)\u001b[0m\n\u001b[0;32m     95\u001b[0m \u001b[38;5;28;01mdef\u001b[39;00m \u001b[38;5;21m__call__\u001b[39m(\u001b[38;5;28mself\u001b[39m, \u001b[38;5;241m*\u001b[39margs: Any, \u001b[38;5;241m*\u001b[39m\u001b[38;5;241m*\u001b[39mkwargs: Any) \u001b[38;5;241m-\u001b[39m\u001b[38;5;241m>\u001b[39m Any:\n\u001b[1;32m---> 96\u001b[0m     res \u001b[38;5;241m=\u001b[39m \u001b[38;5;28;43mself\u001b[39;49m\u001b[38;5;241;43m.\u001b[39;49m\u001b[43m__pydantic_validator__\u001b[49m\u001b[38;5;241;43m.\u001b[39;49m\u001b[43mvalidate_python\u001b[49m\u001b[43m(\u001b[49m\u001b[43mpydantic_core\u001b[49m\u001b[38;5;241;43m.\u001b[39;49m\u001b[43mArgsKwargs\u001b[49m\u001b[43m(\u001b[49m\u001b[43margs\u001b[49m\u001b[43m,\u001b[49m\u001b[43m \u001b[49m\u001b[43mkwargs\u001b[49m\u001b[43m)\u001b[49m\u001b[43m)\u001b[49m\n\u001b[0;32m     97\u001b[0m     \u001b[38;5;28;01mif\u001b[39;00m \u001b[38;5;28mself\u001b[39m\u001b[38;5;241m.\u001b[39m__return_pydantic_validator__:\n\u001b[0;32m     98\u001b[0m         \u001b[38;5;28;01mreturn\u001b[39;00m \u001b[38;5;28mself\u001b[39m\u001b[38;5;241m.\u001b[39m__return_pydantic_validator__(res)\n",
      "File \u001b[1;32mc:\\Users\\Ellen\\anaconda3\\envs\\NWB\\Lib\\site-packages\\neuroconv\\nwbconverter.py:82\u001b[0m, in \u001b[0;36mNWBConverter.__init__\u001b[1;34m(self, source_data, verbose)\u001b[0m\n\u001b[0;32m     79\u001b[0m \u001b[38;5;28mself\u001b[39m\u001b[38;5;241m.\u001b[39mverbose \u001b[38;5;241m=\u001b[39m verbose\n\u001b[0;32m     80\u001b[0m \u001b[38;5;28mself\u001b[39m\u001b[38;5;241m.\u001b[39m_validate_source_data(source_data\u001b[38;5;241m=\u001b[39msource_data, verbose\u001b[38;5;241m=\u001b[39m\u001b[38;5;28mself\u001b[39m\u001b[38;5;241m.\u001b[39mverbose)\n\u001b[0;32m     81\u001b[0m \u001b[38;5;28mself\u001b[39m\u001b[38;5;241m.\u001b[39mdata_interface_objects \u001b[38;5;241m=\u001b[39m {\n\u001b[1;32m---> 82\u001b[0m     name: \u001b[43mdata_interface\u001b[49m\u001b[43m(\u001b[49m\u001b[38;5;241;43m*\u001b[39;49m\u001b[38;5;241;43m*\u001b[39;49m\u001b[43msource_data\u001b[49m\u001b[43m[\u001b[49m\u001b[43mname\u001b[49m\u001b[43m]\u001b[49m\u001b[43m)\u001b[49m\n\u001b[0;32m     83\u001b[0m     \u001b[38;5;28;01mfor\u001b[39;00m name, data_interface \u001b[38;5;129;01min\u001b[39;00m \u001b[38;5;28mself\u001b[39m\u001b[38;5;241m.\u001b[39mdata_interface_classes\u001b[38;5;241m.\u001b[39mitems()\n\u001b[0;32m     84\u001b[0m     \u001b[38;5;28;01mif\u001b[39;00m name \u001b[38;5;129;01min\u001b[39;00m source_data\n\u001b[0;32m     85\u001b[0m }\n",
      "File \u001b[1;32mc:\\Users\\Ellen\\anaconda3\\envs\\NWB\\Lib\\site-packages\\pydantic\\validate_call_decorator.py:60\u001b[0m, in \u001b[0;36mvalidate_call.<locals>.validate.<locals>.wrapper_function\u001b[1;34m(*args, **kwargs)\u001b[0m\n\u001b[0;32m     58\u001b[0m \u001b[38;5;129m@functools\u001b[39m\u001b[38;5;241m.\u001b[39mwraps(function)\n\u001b[0;32m     59\u001b[0m \u001b[38;5;28;01mdef\u001b[39;00m \u001b[38;5;21mwrapper_function\u001b[39m(\u001b[38;5;241m*\u001b[39margs, \u001b[38;5;241m*\u001b[39m\u001b[38;5;241m*\u001b[39mkwargs):\n\u001b[1;32m---> 60\u001b[0m     \u001b[38;5;28;01mreturn\u001b[39;00m \u001b[43mvalidate_call_wrapper\u001b[49m\u001b[43m(\u001b[49m\u001b[38;5;241;43m*\u001b[39;49m\u001b[43margs\u001b[49m\u001b[43m,\u001b[49m\u001b[43m \u001b[49m\u001b[38;5;241;43m*\u001b[39;49m\u001b[38;5;241;43m*\u001b[39;49m\u001b[43mkwargs\u001b[49m\u001b[43m)\u001b[49m\n",
      "File \u001b[1;32mc:\\Users\\Ellen\\anaconda3\\envs\\NWB\\Lib\\site-packages\\pydantic\\_internal\\_validate_call.py:96\u001b[0m, in \u001b[0;36mValidateCallWrapper.__call__\u001b[1;34m(self, *args, **kwargs)\u001b[0m\n\u001b[0;32m     95\u001b[0m \u001b[38;5;28;01mdef\u001b[39;00m \u001b[38;5;21m__call__\u001b[39m(\u001b[38;5;28mself\u001b[39m, \u001b[38;5;241m*\u001b[39margs: Any, \u001b[38;5;241m*\u001b[39m\u001b[38;5;241m*\u001b[39mkwargs: Any) \u001b[38;5;241m-\u001b[39m\u001b[38;5;241m>\u001b[39m Any:\n\u001b[1;32m---> 96\u001b[0m     res \u001b[38;5;241m=\u001b[39m \u001b[38;5;28;43mself\u001b[39;49m\u001b[38;5;241;43m.\u001b[39;49m\u001b[43m__pydantic_validator__\u001b[49m\u001b[38;5;241;43m.\u001b[39;49m\u001b[43mvalidate_python\u001b[49m\u001b[43m(\u001b[49m\u001b[43mpydantic_core\u001b[49m\u001b[38;5;241;43m.\u001b[39;49m\u001b[43mArgsKwargs\u001b[49m\u001b[43m(\u001b[49m\u001b[43margs\u001b[49m\u001b[43m,\u001b[49m\u001b[43m \u001b[49m\u001b[43mkwargs\u001b[49m\u001b[43m)\u001b[49m\u001b[43m)\u001b[49m\n\u001b[0;32m     97\u001b[0m     \u001b[38;5;28;01mif\u001b[39;00m \u001b[38;5;28mself\u001b[39m\u001b[38;5;241m.\u001b[39m__return_pydantic_validator__:\n\u001b[0;32m     98\u001b[0m         \u001b[38;5;28;01mreturn\u001b[39;00m \u001b[38;5;28mself\u001b[39m\u001b[38;5;241m.\u001b[39m__return_pydantic_validator__(res)\n",
      "\u001b[1;31mValidationError\u001b[0m: 1 validation error for __init__\nfolder_path\n  Path does not point to a directory [type=path_not_directory, input_value='C:\\\\Users\\\\Ellen\\\\OneDri...pix-PXI-100.ProbeA-AP\\\\', input_type=str]"
     ]
    }
   ],
   "source": [
    "class NWBConverter(NWBConverter):\n",
    "    data_interface_classes = dict(\n",
    "        PhySorting=PhySortingInterface\n",
    "    )\n",
    "source_data = dict(\n",
    "    PhySorting=dict(\n",
    "        folder_path=phyFolder\n",
    "    ),  \n",
    ")\n",
    "\n",
    "converter = NWBConverter(source_data)\n",
    "\n"
   ]
  },
  {
   "cell_type": "code",
   "execution_count": null,
   "metadata": {},
   "outputs": [],
   "source": [
    "metadata = converter.get_metadata()\n",
    "\n",
    "yamlMetadata = load_dict_from_file(file_path=yaml)\n",
    "\n",
    "metadata = dict_deep_update(metadata,yamlMetadata)\n",
    "converter.run_conversion(metadata=metadata, nwbfile_path=outPath)"
   ]
  }
 ],
 "metadata": {
  "kernelspec": {
   "display_name": "NWB",
   "language": "python",
   "name": "python3"
  },
  "language_info": {
   "codemirror_mode": {
    "name": "ipython",
    "version": 3
   },
   "file_extension": ".py",
   "mimetype": "text/x-python",
   "name": "python",
   "nbconvert_exporter": "python",
   "pygments_lexer": "ipython3",
   "version": "3.12.4"
  }
 },
 "nbformat": 4,
 "nbformat_minor": 2
}
