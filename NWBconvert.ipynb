{
 "cells": [
  {
   "cell_type": "code",
   "execution_count": null,
   "metadata": {},
   "outputs": [],
   "source": [
    "## Extract forted unit information and put into neurodata without borders format (NWB)\n"
   ]
  },
  {
   "cell_type": "code",
   "execution_count": 1,
   "metadata": {},
   "outputs": [],
   "source": [
    "from neuroconv.datainterfaces import PhySortingInterface\n",
    "from neuroconv.utils.dict import load_dict_from_file, dict_deep_update\n",
    "from phylib.io.model import load_model\n",
    "import numpy as np\n",
    "from neuroconv import NWBConverter\n",
    "from pathlib import Path\n",
    "from datetime import datetime,timezone\n",
    "from zoneinfo import ZoneInfo\n"
   ]
  },
  {
   "cell_type": "code",
   "execution_count": null,
   "metadata": {},
   "outputs": [],
   "source": [
    "#set up  - cahnge the paths below to point at your datafiles \n",
    "\n",
    "# phyfolder - directs to folder of the phy output\n",
    "phyFolder =f\"C:\\\\Users\\\\Ellen\\\\OneDrive - University of Massachusetts\\\\20220622_PersonalComp\\\\NPX\\\\EMR23009\\\\2023-03-23_12-44-24\\\\Record Node 105\\\\experiment2\\\\recording1\\\\continuous\\\\Neuropix-PXI-100.ProbeA-AP\\\\\"\n",
    "\n",
    "# change filename to be what you want the NWB file to be saved as - I recomend the ID_date \n",
    "filename = 'PRACTICE'\n",
    "\n",
    "#outPath = path where you want file to be saved, DO NOT CHANGE \"{filename}.nwb\"\n",
    "outPath = f\"C:\\\\Users\\\\Ellen\\\\OneDrive - University of Massachusetts\\\\20220622_PersonalComp\\\\NPX\\\\NWBFiles\\\\{filename}.nwb\"\n",
    "\n",
    "# location of YEML file - make sure to make a YAML file for each recording - this includes all the basic inforamtion of a recording like ID, task, animal age, etc.\n",
    "yaml=f\"C:\\\\Users\\\\Ellen\\\\OneDrive - University of Massachusetts\\\\20220622_PersonalComp\\\\NPX\\\\EMR23009\\\\2023-03-23_12-44-24\\\\Record Node 105\\\\experiment2\\\\recording1\\\\continuous\\\\Neuropix-PXI-100.ProbeA-AP\\\\emr23009.yaml\"\n",
    "\n"
   ]
  },
  {
   "cell_type": "code",
   "execution_count": null,
   "metadata": {},
   "outputs": [],
   "source": [
    "class NWBConverter(NWBConverter):\n",
    "    data_interface_classes = dict(\n",
    "        PhySorting=PhySortingInterface\n",
    "    )\n",
    "source_data = dict(\n",
    "    PhySorting=dict(\n",
    "        folder_path=phyFolder\n",
    "    ),  \n",
    ")\n",
    "\n",
    "converter = NWBConverter(source_data)\n",
    "\n"
   ]
  },
  {
   "cell_type": "code",
   "execution_count": null,
   "metadata": {},
   "outputs": [],
   "source": [
    "metadata = converter.get_metadata()\n",
    "\n",
    "yamlMetadata = load_dict_from_file(file_path=yaml)\n",
    "\n",
    "metadata = dict_deep_update(metadata,yamlMetadata)\n",
    "converter.run_conversion(metadata=metadata, nwbfile_path=outPath)"
   ]
  }
 ],
 "metadata": {
  "kernelspec": {
   "display_name": "NWB",
   "language": "python",
   "name": "python3"
  },
  "language_info": {
   "codemirror_mode": {
    "name": "ipython",
    "version": 3
   },
   "file_extension": ".py",
   "mimetype": "text/x-python",
   "name": "python",
   "nbconvert_exporter": "python",
   "pygments_lexer": "ipython3",
   "version": "3.12.4"
  }
 },
 "nbformat": 4,
 "nbformat_minor": 2
}
